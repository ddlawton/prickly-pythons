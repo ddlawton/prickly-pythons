{
 "cells": [
  {
   "cell_type": "markdown",
   "metadata": {},
   "source": [
    "This notebook contains various examples showing how conditional statements and iterations are implemented and can be used in Python.\n",
    "\n",
    "Date Created: 3 Sep 2017\n",
    "<br>\n",
    "Last Modified: 11 Sep 2017\n",
    "<br>\n",
    "Humans Responsible: The Prickly Pythons"
   ]
  },
  {
   "cell_type": "code",
   "execution_count": null,
   "metadata": {
    "collapsed": true
   },
   "outputs": [],
   "source": [
    "%matplotlib inline\n",
    "\n",
    "import numpy as np\n",
    "import matplotlib.pyplot as plt"
   ]
  },
  {
   "cell_type": "markdown",
   "metadata": {},
   "source": [
    "# Conditional Statements\n",
    "if, elif, else.\n",
    "<br>\n",
    "There are no switch statements in Python!"
   ]
  },
  {
   "cell_type": "code",
   "execution_count": null,
   "metadata": {
    "collapsed": false
   },
   "outputs": [],
   "source": [
    "porridge_temp = 293\n",
    "\n",
    "if porridge_temp > 343:\n",
    "    print('Too hot')\n",
    "elif porridge_temp <= 293:\n",
    "    print('Too cold')\n",
    "else:\n",
    "    print('Just Right')"
   ]
  },
  {
   "cell_type": "code",
   "execution_count": null,
   "metadata": {
    "collapsed": false
   },
   "outputs": [],
   "source": [
    "# String comparison \n",
    "today = 'Friday'\n",
    "\n",
    "if today == 'Friday':\n",
    "    print('Bye bye Cassini')"
   ]
  },
  {
   "cell_type": "code",
   "execution_count": null,
   "metadata": {
    "collapsed": false
   },
   "outputs": [],
   "source": [
    "s = input('How are you? ')\n",
    "\n",
    "if 'Not' in s:\n",
    "    print('Oh no')\n",
    "else:\n",
    "    print('Great')"
   ]
  },
  {
   "cell_type": "code",
   "execution_count": null,
   "metadata": {
    "collapsed": false
   },
   "outputs": [],
   "source": [
    "# Logical: and, or, not \n",
    "# Bitwise: &, |, ~\n",
    "\n",
    "statement = True or not True\n",
    "\n",
    "if statement:\n",
    "    print('Evaluates to True')\n",
    "else:\n",
    "    print('Evaluates to False')"
   ]
  },
  {
   "cell_type": "markdown",
   "metadata": {},
   "source": [
    "# Loops\n",
    "Here are some ways of looping."
   ]
  },
  {
   "cell_type": "code",
   "execution_count": null,
   "metadata": {
    "collapsed": false
   },
   "outputs": [],
   "source": [
    "for apple in range(5):\n",
    "    print(apple)"
   ]
  },
  {
   "cell_type": "code",
   "execution_count": null,
   "metadata": {
    "collapsed": false
   },
   "outputs": [],
   "source": [
    "apple = 0\n",
    "while apple < 5:\n",
    "    print(apple)\n",
    "    apple += 1"
   ]
  },
  {
   "cell_type": "code",
   "execution_count": null,
   "metadata": {
    "collapsed": false
   },
   "outputs": [],
   "source": [
    "a = np.array([10, 20, 30, 40 ,50])\n",
    "\n",
    "for i in range(len(a)):\n",
    "    print(a[i])"
   ]
  },
  {
   "cell_type": "code",
   "execution_count": null,
   "metadata": {
    "collapsed": false
   },
   "outputs": [],
   "source": [
    "for i in a:\n",
    "    print(i)"
   ]
  },
  {
   "cell_type": "code",
   "execution_count": null,
   "metadata": {
    "collapsed": false
   },
   "outputs": [],
   "source": [
    "for i in 'Hello':\n",
    "    print(i)"
   ]
  },
  {
   "cell_type": "code",
   "execution_count": null,
   "metadata": {
    "collapsed": false
   },
   "outputs": [],
   "source": [
    "# 2D loop\n",
    "A = np.array([[1, 2, 3], [4, 5, 6]])\n",
    "print(A)\n",
    "print(A.shape)\n",
    "\n",
    "for i in range(A.shape[0]):\n",
    "    for j in range(A.shape[1]):\n",
    "        print(A[i,j])"
   ]
  },
  {
   "cell_type": "code",
   "execution_count": null,
   "metadata": {
    "collapsed": false
   },
   "outputs": [],
   "source": [
    "for i in A:\n",
    "    print(i)"
   ]
  },
  {
   "cell_type": "markdown",
   "metadata": {},
   "source": [
    "# Breaks and Continue"
   ]
  },
  {
   "cell_type": "code",
   "execution_count": null,
   "metadata": {
    "collapsed": false
   },
   "outputs": [],
   "source": [
    "# Breaking out of loops\n",
    "for i in range(3):\n",
    "    for j in range(3):\n",
    "        print('(%d,%d)' % (i,j))\n",
    "        if j == 1:\n",
    "            print('breaking out')\n",
    "            break"
   ]
  },
  {
   "cell_type": "code",
   "execution_count": null,
   "metadata": {
    "collapsed": true
   },
   "outputs": [],
   "source": [
    "# See here for a good explanation of why we use continue\n",
    "# https://stackoverflow.com/a/8421045"
   ]
  },
  {
   "cell_type": "markdown",
   "metadata": {},
   "source": [
    "# Case Study 1: An iterative square roots finder\n",
    "Due to Heron of Alexandria."
   ]
  },
  {
   "cell_type": "code",
   "execution_count": null,
   "metadata": {
    "collapsed": false
   },
   "outputs": [],
   "source": [
    "N = 25\n",
    "x = 3\n",
    "tol = 1e-6\n",
    "\n",
    "print(x)\n",
    "while np.abs(N - x**2) > tol:\n",
    "    x = (x + N/x)/2\n",
    "    print(x)"
   ]
  },
  {
   "cell_type": "markdown",
   "metadata": {},
   "source": [
    "# Case Study 2: The Collatz Conjecture\n",
    "Will the repeated application of the following function always give the value of 1 eventually for any starting integer $n$?\n",
    "\n",
    "$$\n",
    "f(n) = \n",
    "\\left\\{ \\begin{array}{@{\\kern2.5pt}lL}\n",
    "    \\hfill n/2 & \\text{if $n$ even} \n",
    "    \\\\\n",
    "    \\hfill 3n+1 & \\text{if $n$ odd} \n",
    "\\end{array}\\right.\n",
    "$$"
   ]
  },
  {
   "cell_type": "code",
   "execution_count": null,
   "metadata": {
    "collapsed": false
   },
   "outputs": [],
   "source": [
    "n = 15\n",
    "max_it = 17\n",
    "\n",
    "# Initialise some storage space\n",
    "n_store = np.zeros(max_it+1, dtype=int)\n",
    "\n",
    "n_store[0] = n\n",
    "for i in range(1,max_it+1):\n",
    "    if n % 2 == 0:\n",
    "        n = n/2\n",
    "    else:\n",
    "        n = 3*n + 1\n",
    "    n_store[i] = n\n",
    "\n",
    "print(n_store)\n",
    "\n",
    "fig = plt.figure(figsize=(7,4))\n",
    "ax = fig.add_subplot(111)\n",
    "ax.plot(range(len(n_store)), n_store, linewidth=2)\n",
    "plt.show()"
   ]
  },
  {
   "cell_type": "markdown",
   "metadata": {},
   "source": [
    "# Case Study 3: Plotting subplots with a loop"
   ]
  },
  {
   "cell_type": "code",
   "execution_count": null,
   "metadata": {
    "collapsed": false
   },
   "outputs": [],
   "source": [
    "x = np.arange(100)\n",
    "\n",
    "n_rows = 3\n",
    "n_cols = 2\n",
    "\n",
    "fig, axes = plt.subplots(n_rows, n_cols, figsize=(10, 8))\n",
    "\n",
    "for row in range(n_rows):\n",
    "    for col in range(n_cols):\n",
    "        y = np.random.normal(0, 1, 100)\n",
    "        axes[row,col].plot(x, y, color='blue')\n",
    "\n",
    "plt.show()"
   ]
  },
  {
   "cell_type": "markdown",
   "metadata": {},
   "source": [
    "# List Comprehension\n",
    "List comprehensions are a concise way of creating lists.\n",
    "<br>\n",
    "A list comprehension consists of any number of For loops inside square brackets.\n"
   ]
  },
  {
   "cell_type": "code",
   "execution_count": null,
   "metadata": {
    "collapsed": false
   },
   "outputs": [],
   "source": [
    "squares_list = []\n",
    "for x in range(10):\n",
    "    squares_list.append(x**2)\n",
    "\n",
    "squares_list"
   ]
  },
  {
   "cell_type": "code",
   "execution_count": null,
   "metadata": {
    "collapsed": false
   },
   "outputs": [],
   "source": [
    "# The equivalent way to initialise the squares list with list comprehension is:\n",
    "squares_list2 = [x**2 for x in range(10)]\n",
    "squares_list2"
   ]
  },
  {
   "cell_type": "code",
   "execution_count": null,
   "metadata": {
    "collapsed": false
   },
   "outputs": [],
   "source": [
    "# For 2D lists, you can do something like this:\n",
    "A = [[2 for i in range(10)] for j in range(5)]\n",
    "A"
   ]
  },
  {
   "cell_type": "code",
   "execution_count": null,
   "metadata": {
    "collapsed": false
   },
   "outputs": [],
   "source": [
    "# Sometimes you may see the symbol _ in place of loop indices. The underscore is Python's \"throwaway\" variable. \n",
    "# But doing so is not encouraged for code readability.\n",
    "A = [[5 for _ in range(10)] for _ in range(5)]\n",
    "A"
   ]
  },
  {
   "cell_type": "code",
   "execution_count": null,
   "metadata": {
    "collapsed": true
   },
   "outputs": [],
   "source": []
  }
 ],
 "metadata": {
  "kernelspec": {
   "display_name": "Python 3",
   "language": "python",
   "name": "python3"
  },
  "language_info": {
   "codemirror_mode": {
    "name": "ipython",
    "version": 3
   },
   "file_extension": ".py",
   "mimetype": "text/x-python",
   "name": "python",
   "nbconvert_exporter": "python",
   "pygments_lexer": "ipython3",
   "version": "3.4.5"
  }
 },
 "nbformat": 4,
 "nbformat_minor": 0
}
