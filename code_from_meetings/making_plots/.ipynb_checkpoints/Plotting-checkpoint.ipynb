{
 "cells": [
  {
   "cell_type": "code",
   "execution_count": null,
   "metadata": {
    "collapsed": false
   },
   "outputs": [],
   "source": [
    "%matplotlib nbagg\n",
    "print('-- ')\n",
    "print('-- Make plots (the smart way) in python')\n",
    "print('-- (much material from presentation by John D West 2015)')\n",
    "print('-- (rest from Karen Olsen 2017)')\n",
    "print('-- ')\n",
    "print('We will go through:')\n",
    "print('1) Simple object-oriented plotting')\n",
    "print('2) Adding a second axis')\n",
    "print('3) Having several plots in one figure (sub-plotting)')\n",
    "print('4) Transparency!')\n",
    "print('5) Saving plots')\n",
    "print('6) ...')"
   ]
  },
  {
   "cell_type": "code",
   "execution_count": null,
   "metadata": {
    "collapsed": true
   },
   "outputs": [],
   "source": [
    "# Import the modules that we will need for plotting\n",
    "import matplotlib.pyplot as plt\n",
    "import numpy as np\n",
    "from IPython import display"
   ]
  },
  {
   "cell_type": "code",
   "execution_count": null,
   "metadata": {
    "collapsed": false
   },
   "outputs": [],
   "source": [
    "# Load some data: In this case, tides on the Earth, \n",
    "# one measurement per hour\n",
    "tide_kPa = np.load('Tide.npy')\n",
    "t_hours = np.arange(len(tide_kPa))\n",
    "P_kPa = np.load('BP.npy')"
   ]
  },
  {
   "cell_type": "code",
   "execution_count": null,
   "metadata": {
    "collapsed": false
   },
   "outputs": [],
   "source": [
    "# 1) Simple object-oriented plotting\n",
    "# In this presentation we will use an object-oriented way to make plots.\n",
    "# That means we make an axes 'object' that we add stuff to:\n",
    "plt.close('all') # to close all open windows\n",
    "fig = plt.figure(figsize=(6,4))\n",
    "ax1 = fig.add_subplot(111)"
   ]
  },
  {
   "cell_type": "code",
   "execution_count": null,
   "metadata": {
    "collapsed": false
   },
   "outputs": [],
   "source": [
    "# Now, we can use a lot of matplotlib functions on the 'ax1' object \n",
    "# (in ipython hit tab after 'ax1.' to see all your options)\n",
    "ax1.plot(t_hours, P_kPa, color='blue', linewidth = 1.5, \\\n",
    "         linestyle='--', label='Barometric Pressure')\n",
    "# Or, in short-hand notation:\n",
    "# ax1.plot(t_hours, P_kPa, c='blue', lw = 1.5, ls='--', label='Barometric Pressure')\n",
    "# Let's take a look"
   ]
  },
  {
   "cell_type": "code",
   "execution_count": null,
   "metadata": {
    "collapsed": false,
    "scrolled": true
   },
   "outputs": [],
   "source": [
    "# Let's put some axis labels and a title on there:\n",
    "ax1.set_ylabel('Barometric Pressure Stress (kPa)', color='blue')\n",
    "ax1.set_xlabel('Time (hours)', color='blue')\n",
    "ax1.set_title('Stress for 10-day period')\n",
    "# Add grid lines\n",
    "ax1.grid(True)\n",
    "plt.show()"
   ]
  },
  {
   "cell_type": "code",
   "execution_count": null,
   "metadata": {
    "collapsed": false
   },
   "outputs": [],
   "source": [
    "# 2) Adding a second axis\n",
    "# We can also add a SECOND axis by creating another object:\n",
    "fig = plt.figure(figsize=(6,4)) \n",
    "ax1 = fig.add_subplot(111)"
   ]
  },
  {
   "cell_type": "code",
   "execution_count": null,
   "metadata": {
    "collapsed": false
   },
   "outputs": [],
   "source": [
    "# Let's first plot what we had before, now with crosses:\n",
    "ax1.plot(t_hours, P_kPa, color='blue', marker='x', lw=1, mew=2, label='Barometric Pressure')\n",
    "ax1.set_ylabel('Barometric Pressure Stress (kPa)', color='blue')\n",
    "ax1.set_xlabel('Time (hours)', color='blue')\n",
    "ax1.set_title('Stress for 10-day period')"
   ]
  },
  {
   "cell_type": "code",
   "execution_count": null,
   "metadata": {
    "collapsed": false
   },
   "outputs": [],
   "source": [
    "# Then we create a new axes object and plot another type of data sharing the same x-axis\n",
    "ax2 = ax1.twinx()\n",
    "ax2.set_ylabel('Tidal Stress (kPa)', color='green')\n",
    "ax2.plot(t_hours, tide_kPa, color='green', linewidth=1.5, \\\n",
    "         linestyle = '-.', label='Earth Tides')\n",
    "# And add legends to tell the two datasets apart:\n",
    "ax1.legend(loc='upper left',handlelength=4)\n",
    "ax2.legend(loc='upper right',handlelength=4)\n",
    "plt.show()"
   ]
  },
  {
   "cell_type": "code",
   "execution_count": null,
   "metadata": {
    "collapsed": false
   },
   "outputs": [],
   "source": [
    "# 3) Having several plots in one figure (sub-plotting)\n",
    "# A quick way to set up all axes in one line:\n",
    "fig, ((ax1, ax2), (ax3, ax4)) = plt.subplots(2,2,figsize=(10,8))\n",
    "# which is the same as:\n",
    "# fig = plt.figure()\n",
    "# ax1 = fig.add_subplot(221)\n",
    "# ax2 = fig.add_subplot(222)\n",
    "# ax3 = fig.add_subplot(223)\n",
    "# ax4 = fig.add_subplot(224)\n",
    "# Matplotlib has a routine for making histograms:\n",
    "ax1.hist(tide_kPa + P_kPa, bins=20, color='#ff6600', alpha=0.5)\n",
    "ax1.set_ylabel('Number of samples')\n",
    "ax1.set_xlabel('Combined stress')\n",
    "ax1.set_title('Distribution of Stress Measurements',fontsize=12)"
   ]
  },
  {
   "cell_type": "code",
   "execution_count": null,
   "metadata": {
    "collapsed": true
   },
   "outputs": [],
   "source": [
    "# The x-axis got a little bit crammed, we can change that:\n",
    "ax1.xaxis.major.locator.set_params(nbins=3)\n",
    "# ax1.set_xticks([])"
   ]
  },
  {
   "cell_type": "code",
   "execution_count": null,
   "metadata": {
    "collapsed": false
   },
   "outputs": [],
   "source": [
    "# Matplotlib can also do a simple scatter plot:\n",
    "ax2.scatter(t_hours, tide_kPa, c=P_kPa, marker='^')\n",
    "ax2.set_xlabel('Time (hours)')\n",
    "ax2.set_ylabel('Stress (kPa)')\n",
    "ax2.set_title('Tidal Stress vs Time')"
   ]
  },
  {
   "cell_type": "code",
   "execution_count": null,
   "metadata": {
    "collapsed": false
   },
   "outputs": [],
   "source": [
    "# Let's do another line plot:\n",
    "ax3.plot(t_hours, P_kPa-100., color='blue', linewidth = 1.5)\n",
    "ax3.set_xlabel('Time (hours)')\n",
    "ax3.set_ylabel('Pressure (kPa) - 100 kPa')\n",
    "ax3.set_title('Barometric Pressure vs Time')"
   ]
  },
  {
   "cell_type": "code",
   "execution_count": null,
   "metadata": {
    "collapsed": false
   },
   "outputs": [],
   "source": [
    "# And a bar plot\n",
    "ax4.bar(t_hours,P_kPa-100.,facecolor='green',lw=0,alpha=0.5)\n",
    "ax4.set_xlabel('Time (hours)')\n",
    "ax4.set_ylabel('Barometric Pressure - 100 kPa')\n",
    "ax4.set_title('Barometric Pressure Bar Chart')"
   ]
  },
  {
   "cell_type": "code",
   "execution_count": null,
   "metadata": {
    "collapsed": false
   },
   "outputs": [],
   "source": [
    "# A smart way to adjust fontsizes that works (most of the time):\n",
    "plt.tight_layout()\n",
    "plt.show()"
   ]
  },
  {
   "cell_type": "code",
   "execution_count": null,
   "metadata": {
    "collapsed": false
   },
   "outputs": [],
   "source": [
    "# 4) Transparency!\n",
    "fig = plt.figure(figsize=(10,5)) \n",
    "ax1 = fig.add_subplot(111)\n",
    "ax1.bar(t_hours,P_kPa-100.,facecolor='green',lw=0,alpha=1)\n",
    "ax1.bar(t_hours,(P_kPa-100.)[::-1],facecolor='red',lw=1.5,alpha=0.5)\n",
    "ax1.set_ylim([0.8,1.6])\n",
    "ax1.set_xlim([50,100])\n",
    "ax1.set_title('Barometric Pressure vs Time')\n",
    "ax1.set_xlabel('Time (hours)')\n",
    "ax1.set_ylabel('Barometric Pressure - 100 kPa')\n",
    "ax1.set_title('Barometric Pressure Bar Chart')\n",
    "plt.show()"
   ]
  },
  {
   "cell_type": "code",
   "execution_count": null,
   "metadata": {
    "collapsed": false
   },
   "outputs": [],
   "source": [
    "# 5) And finally to save the plot, python has different formats available.\n",
    "# Default is png:\n",
    "plt.savefig('plots/subplot')"
   ]
  },
  {
   "cell_type": "code",
   "execution_count": null,
   "metadata": {
    "collapsed": false
   },
   "outputs": [],
   "source": [
    "# For papers, postscript is typically used:\n",
    "plt.savefig('plots/subplot.eps', format='eps', dpi=200)"
   ]
  },
  {
   "cell_type": "code",
   "execution_count": null,
   "metadata": {
    "collapsed": true
   },
   "outputs": [],
   "source": [
    "# PDF is better at handling transparency:\n",
    "plt.savefig('plots/subplot.pdf', format='pdf', dpi=200)"
   ]
  },
  {
   "cell_type": "code",
   "execution_count": null,
   "metadata": {
    "collapsed": true
   },
   "outputs": [],
   "source": []
  }
 ],
 "metadata": {
  "kernelspec": {
   "display_name": "Python 2",
   "language": "python",
   "name": "python2"
  },
  "language_info": {
   "codemirror_mode": {
    "name": "ipython",
    "version": 2
   },
   "file_extension": ".py",
   "mimetype": "text/x-python",
   "name": "python",
   "nbconvert_exporter": "python",
   "pygments_lexer": "ipython2",
   "version": "2.7.13"
  }
 },
 "nbformat": 4,
 "nbformat_minor": 0
}
