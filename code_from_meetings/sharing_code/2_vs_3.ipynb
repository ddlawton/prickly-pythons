{
 "cells": [
  {
   "cell_type": "markdown",
   "metadata": {},
   "source": [
    "A notebook on some Python 2 versus Python 3 tidbits.\n",
    "\n",
    "Date Created: 29 Oct 2017\n",
    "<br>\n",
    "Last Modified: 30 Oct 2017\n",
    "<br>\n",
    "Humans Responsible: The Prickly Pythons"
   ]
  },
  {
   "cell_type": "markdown",
   "metadata": {},
   "source": [
    "## Print statements\n",
    "In Python 2 ```print``` is a keyword like ```for```, ```while```, etc.\n",
    "But in Python 3 ```print``` is a function."
   ]
  },
  {
   "cell_type": "code",
   "execution_count": null,
   "metadata": {
    "collapsed": false
   },
   "outputs": [],
   "source": [
    "print \"Hello\" # Python 2"
   ]
  },
  {
   "cell_type": "code",
   "execution_count": null,
   "metadata": {
    "collapsed": false
   },
   "outputs": [],
   "source": [
    "print(\"Hello\") # Python 2 and 3"
   ]
  },
  {
   "cell_type": "code",
   "execution_count": null,
   "metadata": {
    "collapsed": true
   },
   "outputs": [],
   "source": [
    "# Solution for users of Python 2 if want Python 3 behaviour\n",
    "from __future__ import print_function"
   ]
  },
  {
   "cell_type": "markdown",
   "metadata": {},
   "source": [
    "## Division"
   ]
  },
  {
   "cell_type": "code",
   "execution_count": 1,
   "metadata": {
    "collapsed": false
   },
   "outputs": [
    {
     "data": {
      "text/plain": [
       "0.5"
      ]
     },
     "execution_count": 1,
     "metadata": {},
     "output_type": "execute_result"
    }
   ],
   "source": [
    "1/2 # Would output 0 in Python 2"
   ]
  },
  {
   "cell_type": "code",
   "execution_count": 2,
   "metadata": {
    "collapsed": false
   },
   "outputs": [
    {
     "data": {
      "text/plain": [
       "0.5"
      ]
     },
     "execution_count": 2,
     "metadata": {},
     "output_type": "execute_result"
    }
   ],
   "source": [
    "1/2. # Would ouput 0.5 in both Python 2 and 3"
   ]
  },
  {
   "cell_type": "code",
   "execution_count": 3,
   "metadata": {
    "collapsed": false
   },
   "outputs": [
    {
     "data": {
      "text/plain": [
       "0"
      ]
     },
     "execution_count": 3,
     "metadata": {},
     "output_type": "execute_result"
    }
   ],
   "source": [
    "1//2 # Would output 0 in both Python 2 and 3"
   ]
  },
  {
   "cell_type": "code",
   "execution_count": null,
   "metadata": {
    "collapsed": true
   },
   "outputs": [],
   "source": [
    "# Solution for users of Python 2 if want Python 3 behaviour\n",
    "from __future__ import division"
   ]
  },
  {
   "cell_type": "markdown",
   "metadata": {},
   "source": [
    "## User Input\n",
    "Python 2 has two functions for obtaining input from the user: ```input()``` and ```raw_input()```. \n",
    "<br>\n",
    "Python 3 has only one: ``` input()```, which behaves like Python 2's ```raw_input()```.\n",
    "<br>\n",
    "Difference:\n",
    "<br>\n",
    "```raw_input()``` returns the input as a string.\n",
    "<br>\n",
    "```input()``` evaluates the input as Python code and returns the result of that evaluation."
   ]
  },
  {
   "cell_type": "code",
   "execution_count": 4,
   "metadata": {
    "collapsed": false
   },
   "outputs": [
    {
     "name": "stdout",
     "output_type": "stream",
     "text": [
      "Please type 20/5 and press <Enter>:20/5\n"
     ]
    },
    {
     "data": {
      "text/plain": [
       "'20/5'"
      ]
     },
     "execution_count": 4,
     "metadata": {},
     "output_type": "execute_result"
    }
   ],
   "source": [
    "input(\"Please type 20/5 and press <Enter>:\") # would return the integer 4 in Python 2"
   ]
  },
  {
   "cell_type": "code",
   "execution_count": 5,
   "metadata": {
    "collapsed": false
   },
   "outputs": [
    {
     "ename": "NameError",
     "evalue": "name 'raw_input' is not defined",
     "output_type": "error",
     "traceback": [
      "\u001b[0;31m---------------------------------------------------------------------------\u001b[0m",
      "\u001b[0;31mNameError\u001b[0m                                 Traceback (most recent call last)",
      "\u001b[0;32m<ipython-input-5-0b8b590914f4>\u001b[0m in \u001b[0;36m<module>\u001b[0;34m()\u001b[0m\n\u001b[0;32m----> 1\u001b[0;31m \u001b[0mraw_input\u001b[0m\u001b[0;34m(\u001b[0m\u001b[0;34m\"Please type 20/5 and press <Enter>:\"\u001b[0m\u001b[0;34m)\u001b[0m \u001b[0;31m# would return the string 20/5 in Python 2\u001b[0m\u001b[0;34m\u001b[0m\u001b[0m\n\u001b[0m",
      "\u001b[0;31mNameError\u001b[0m: name 'raw_input' is not defined"
     ]
    }
   ],
   "source": [
    "raw_input(\"Please type 20/5 and press <Enter>:\") # would return the string 20/5 in Python 2"
   ]
  },
  {
   "cell_type": "code",
   "execution_count": null,
   "metadata": {
    "collapsed": true
   },
   "outputs": [],
   "source": [
    "# Solution for users of Python 2 if want Python 3 behaviour\n",
    "input = raw_input"
   ]
  },
  {
   "cell_type": "markdown",
   "metadata": {},
   "source": [
    "# Porting Code\n",
    "\n",
    "Converting code written in Python 2 to Python 3 and vice versa.\n",
    "<br>\n",
    "Non-trivial. But here are some tools/packages that can help with this (non-exhuastive):\n",
    "- [2to3](https://docs.python.org/2/library/2to3.html), 3to2\n",
    "- [modernize](https://pypi.python.org/pypi/modernize)\n",
    "- futurise, pasteruerise - from the [future](http://python-future.org) package\n",
    "- [six](https://pypi.python.org/pypi/six)"
   ]
  },
  {
   "cell_type": "code",
   "execution_count": null,
   "metadata": {
    "collapsed": true
   },
   "outputs": [],
   "source": [
    "# Example: fish\n",
    "# First thing to do is always - read the docs: https://pypi.python.org/pypi/fish/1.1\n",
    "\n",
    "import fish"
   ]
  },
  {
   "cell_type": "code",
   "execution_count": null,
   "metadata": {
    "collapsed": true
   },
   "outputs": [],
   "source": [
    "while True:\n",
    "    fish.animate()"
   ]
  },
  {
   "cell_type": "markdown",
   "metadata": {},
   "source": [
    "# Further Reading\n",
    "- https://wiki.python.org/moin/Python2orPython3\n",
    "- https://medium.com/python-pandemonium/oh-no-this-package-is-python-2-only-8e6316f9a02\n",
    "- https://medium.com/@HarriSrivastav/the-evolution-of-python-language-over-the-years-20651360df4d\n",
    "- http://astrofrog.github.io/blog/2016/01/12/stop-writing-python-4-incompatible-code/"
   ]
  }
 ],
 "metadata": {
  "kernelspec": {
   "display_name": "Python 3",
   "language": "python",
   "name": "python3"
  },
  "language_info": {
   "codemirror_mode": {
    "name": "ipython",
    "version": 3
   },
   "file_extension": ".py",
   "mimetype": "text/x-python",
   "name": "python",
   "nbconvert_exporter": "python",
   "pygments_lexer": "ipython3",
   "version": "3.4.5"
  }
 },
 "nbformat": 4,
 "nbformat_minor": 0
}
