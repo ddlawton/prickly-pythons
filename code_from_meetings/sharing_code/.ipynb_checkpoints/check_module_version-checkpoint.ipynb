{
 "cells": [
  {
   "cell_type": "markdown",
   "metadata": {},
   "source": [
    "This notebook contains various examples showing how check the version of packages.\n",
    "\n",
    "Date Created: Oct 29 2017 <br>\n",
    "Last Modified: Oct 30 2017 \n",
    "\n",
    "Humans Responsible: The Prickly Pythons\n",
    "\n",
    "See this conda [cheat sheet](https://conda.io/docs/user-guide/cheatsheet.html) for most of the information in this notebook in condensed form."
   ]
  },
  {
   "cell_type": "markdown",
   "metadata": {},
   "source": [
    "## Check module version within python"
   ]
  },
  {
   "cell_type": "code",
   "execution_count": 1,
   "metadata": {},
   "outputs": [
    {
     "data": {
      "text/plain": [
       "'1.9.3'"
      ]
     },
     "execution_count": 1,
     "metadata": {},
     "output_type": "execute_result"
    }
   ],
   "source": [
    "import numpy as np\n",
    "np.__version__"
   ]
  },
  {
   "cell_type": "markdown",
   "metadata": {
    "collapsed": true
   },
   "source": [
    "## Update a package with anaconda\n",
    "\n",
    "In the terminal, use \"conda\" to install/update packages containing modules, example:\n",
    "\n",
    "```\n",
    "conda update numpy\n",
    "```\n",
    "\n",
    "This will update numpy if possible.\n"
   ]
  },
  {
   "cell_type": "markdown",
   "metadata": {},
   "source": [
    "## Install a package with conda\n",
    "\n",
    "As an example, let's say we want to use the biopython package (http://biopython.org/):"
   ]
  },
  {
   "cell_type": "code",
   "execution_count": 2,
   "metadata": {},
   "outputs": [
    {
     "ename": "ImportError",
     "evalue": "No module named 'biopython'",
     "output_type": "error",
     "traceback": [
      "\u001b[0;31m---------------------------------------------------------------------------\u001b[0m",
      "\u001b[0;31mImportError\u001b[0m                               Traceback (most recent call last)",
      "\u001b[0;32m<ipython-input-2-9d707d9d190f>\u001b[0m in \u001b[0;36m<module>\u001b[0;34m()\u001b[0m\n\u001b[0;32m----> 1\u001b[0;31m \u001b[0;32mimport\u001b[0m \u001b[0mbiopython\u001b[0m\u001b[0;34m\u001b[0m\u001b[0m\n\u001b[0m",
      "\u001b[0;31mImportError\u001b[0m: No module named 'biopython'"
     ]
    }
   ],
   "source": [
    "import biopython"
   ]
  },
  {
   "cell_type": "markdown",
   "metadata": {},
   "source": [
    "Go to the terminal and use conda again:\n",
    "\n",
    "```\n",
    "conda install biopython\n",
    "```\n",
    "\n",
    "It will show you which new packages will be installed in addition to biopython to make it work as well as any package that needs to be updated/downgraded. Also, it asks you to confirm that you want to continue before making these changes."
   ]
  },
  {
   "cell_type": "markdown",
   "metadata": {},
   "source": [
    "## Updating anaconda itself\n",
    "\n",
    "Type in the terminal:\n",
    "\n",
    "```\n",
    "conda info\n",
    "```\n",
    "\n",
    "And to update anaconda and *all* packages, the recommended way is:\n",
    "\n",
    "```\n",
    "conda update anaconda\n",
    "```\n",
    "\n",
    "See this [stackoverflow topic](https://stackoverflow.com/questions/45811146/which-is-the-correct-command-to-update-all-anaconda-python-packages)."
   ]
  },
  {
   "cell_type": "markdown",
   "metadata": {},
   "source": [
    "## Is a package missing from conda? Try pip!\n",
    "\n",
    "Example: the [package periodic](https://pypi.python.org/pypi/periodic) is not know by conda (try ```conda search periodic```), but is known to pip (Pip Installs Python/Packages): \n",
    "\n",
    "```\n",
    "pip search periodic\n",
    "```\n",
    "\n",
    "and can be installed with:\n",
    "\n",
    "```\n",
    "pip install periodic\n",
    "```"
   ]
  },
  {
   "cell_type": "markdown",
   "metadata": {},
   "source": [
    "## For Mac users: Homebrew\n",
    "\n",
    "... is a more [general package manager](https://en.wikipedia.org/wiki/Homebrew_(package_management_software) that can also be used for python (but does not come with anaconda)."
   ]
  },
  {
   "cell_type": "code",
   "execution_count": null,
   "metadata": {
    "collapsed": true
   },
   "outputs": [],
   "source": []
  }
 ],
 "metadata": {
  "kernelspec": {
   "display_name": "Python 3",
   "language": "python",
   "name": "python3"
  },
  "language_info": {
   "codemirror_mode": {
    "name": "ipython",
    "version": 3
   },
   "file_extension": ".py",
   "mimetype": "text/x-python",
   "name": "python",
   "nbconvert_exporter": "python",
   "pygments_lexer": "ipython3",
   "version": "3.5.4"
  }
 },
 "nbformat": 4,
 "nbformat_minor": 2
}
