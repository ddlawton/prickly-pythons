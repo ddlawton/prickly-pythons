{
 "cells": [
  {
   "cell_type": "code",
   "execution_count": 1,
   "metadata": {
    "collapsed": false
   },
   "outputs": [
    {
     "name": "stdout",
     "output_type": "stream",
     "text": [
      "-- \n",
      "-- Read data files in different formats (and save them) in python\n",
      "-- \n"
     ]
    }
   ],
   "source": [
    "%matplotlib inline\n",
    "print('-- ')\n",
    "print('-- Read data files in different formats (and save them) in python')\n",
    "print('-- ')"
   ]
  },
  {
   "cell_type": "code",
   "execution_count": 2,
   "metadata": {
    "collapsed": false
   },
   "outputs": [
    {
     "name": "stdout",
     "output_type": "stream",
     "text": [
      "\n",
      " ---- Ascii files! ----\n",
      "\n"
     ]
    }
   ],
   "source": [
    "print('\\n ---- Ascii files! ----\\n')"
   ]
  },
  {
   "cell_type": "code",
   "execution_count": null,
   "metadata": {
    "collapsed": true
   },
   "outputs": [],
   "source": [
    "# In test_data/ there is a text file called spectrum2.dat with \n",
    "# data that we want to import into python. \n",
    "# (spectrum2.dat is a model stellar spectrum from starburst99 for \n",
    "# a group of stars with 0.7 x solar metallicity, \n",
    "# 1e4 solar masses population, Kroupa IMF and a starburst 1e6 years ago)"
   ]
  },
  {
   "cell_type": "code",
   "execution_count": 3,
   "metadata": {
    "collapsed": false
   },
   "outputs": [
    {
     "name": "stdout",
     "output_type": "stream",
     "text": [
      "Read data into numpy array!\n",
      "<type 'numpy.ndarray'>\n"
     ]
    }
   ],
   "source": [
    "print('Read data into numpy array!')\n",
    "import numpy as np\n",
    "# http://docs.scipy.org/doc/numpy/reference/generated/numpy.loadtxt.html\n",
    "spec_nparray    =   np.loadtxt('test_data/spectrum2.dat',skiprows=6)\n",
    "print(type(spec_nparray))"
   ]
  },
  {
   "cell_type": "code",
   "execution_count": 4,
   "metadata": {
    "collapsed": false
   },
   "outputs": [
    {
     "data": {
      "text/plain": [
       "(1221, 5)"
      ]
     },
     "execution_count": 4,
     "metadata": {},
     "output_type": "execute_result"
    }
   ],
   "source": [
    "spec_nparray.shape"
   ]
  },
  {
   "cell_type": "code",
   "execution_count": 5,
   "metadata": {
    "collapsed": true
   },
   "outputs": [],
   "source": [
    "t_yr = spec_nparray[:,0]"
   ]
  },
  {
   "cell_type": "code",
   "execution_count": 7,
   "metadata": {
    "collapsed": false
   },
   "outputs": [
    {
     "data": {
      "text/plain": [
       "dtype('float64')"
      ]
     },
     "execution_count": 7,
     "metadata": {},
     "output_type": "execute_result"
    }
   ],
   "source": [
    "t_yr.dtype"
   ]
  },
  {
   "cell_type": "code",
   "execution_count": null,
   "metadata": {
    "collapsed": false
   },
   "outputs": [],
   "source": [
    "# The genfromtxt function from numpy is a bit more flexible\n",
    "# http://docs.scipy.org/doc/numpy/reference/generated/numpy.genfromtxt.html"
   ]
  },
  {
   "cell_type": "code",
   "execution_count": 9,
   "metadata": {
    "collapsed": false
   },
   "outputs": [
    {
     "name": "stdout",
     "output_type": "stream",
     "text": [
      "<type 'numpy.ndarray'>\n",
      "10010000.0\n",
      "10010000.0\n"
     ]
    }
   ],
   "source": [
    "spec_nparray2    =   np.genfromtxt('test_data/spectrum2.dat',skip_header=6,\\\n",
    "                    names=['time','wavelength','L_tot','L_stellar','L_nebular'])\n",
    "print(type(spec_nparray2))\n",
    "print(spec_nparray[0,0])\n",
    "print(spec_nparray2['time'][0])"
   ]
  },
  {
   "cell_type": "code",
   "execution_count": 12,
   "metadata": {
    "collapsed": false
   },
   "outputs": [
    {
     "name": "stdout",
     "output_type": "stream",
     "text": [
      "nan\n"
     ]
    }
   ],
   "source": [
    "# and if some values are missing:\n",
    "spec_nparray2    =   np.genfromtxt('test_data/spectrum2.dat',skip_header=6,\\\n",
    "                    names=['time','wavelength','L_tot','L_stellar','L_nebular'],\\\n",
    "                    missing_values='%%%',filling_values=-1)\n",
    "print(spec_nparray2['time'][0])\n",
    "# print(spec_nparray2[0][0])"
   ]
  },
  {
   "cell_type": "code",
   "execution_count": 13,
   "metadata": {
    "collapsed": false
   },
   "outputs": [
    {
     "ename": "ValueError",
     "evalue": "could not convert string to float: %%%",
     "output_type": "error",
     "traceback": [
      "\u001b[0;31m---------------------------------------------------------------------------\u001b[0m",
      "\u001b[0;31mValueError\u001b[0m                                Traceback (most recent call last)",
      "\u001b[0;32m<ipython-input-13-8d1e4c47eaff>\u001b[0m in \u001b[0;36m<module>\u001b[0;34m()\u001b[0m\n\u001b[1;32m      1\u001b[0m \u001b[0;34m\u001b[0m\u001b[0m\n\u001b[0;32m----> 2\u001b[0;31m \u001b[0mspec_nparray\u001b[0m    \u001b[0;34m=\u001b[0m   \u001b[0mnp\u001b[0m\u001b[0;34m.\u001b[0m\u001b[0mloadtxt\u001b[0m\u001b[0;34m(\u001b[0m\u001b[0;34m'test_data/spectrum2.dat'\u001b[0m\u001b[0;34m,\u001b[0m\u001b[0mskiprows\u001b[0m\u001b[0;34m=\u001b[0m\u001b[0;36m6\u001b[0m\u001b[0;34m)\u001b[0m\u001b[0;34m\u001b[0m\u001b[0m\n\u001b[0m\u001b[1;32m      3\u001b[0m \u001b[0;32mprint\u001b[0m\u001b[0;34m(\u001b[0m\u001b[0mtype\u001b[0m\u001b[0;34m(\u001b[0m\u001b[0mspec_nparray2\u001b[0m\u001b[0;34m)\u001b[0m\u001b[0;34m)\u001b[0m\u001b[0;34m\u001b[0m\u001b[0m\n",
      "\u001b[0;32m/Users/Karen/anaconda2/lib/python2.7/site-packages/numpy/lib/npyio.pyc\u001b[0m in \u001b[0;36mloadtxt\u001b[0;34m(fname, dtype, comments, delimiter, converters, skiprows, usecols, unpack, ndmin)\u001b[0m\n\u001b[1;32m    928\u001b[0m \u001b[0;34m\u001b[0m\u001b[0m\n\u001b[1;32m    929\u001b[0m             \u001b[0;31m# Convert each value according to its column and store\u001b[0m\u001b[0;34m\u001b[0m\u001b[0;34m\u001b[0m\u001b[0m\n\u001b[0;32m--> 930\u001b[0;31m             \u001b[0mitems\u001b[0m \u001b[0;34m=\u001b[0m \u001b[0;34m[\u001b[0m\u001b[0mconv\u001b[0m\u001b[0;34m(\u001b[0m\u001b[0mval\u001b[0m\u001b[0;34m)\u001b[0m \u001b[0;32mfor\u001b[0m \u001b[0;34m(\u001b[0m\u001b[0mconv\u001b[0m\u001b[0;34m,\u001b[0m \u001b[0mval\u001b[0m\u001b[0;34m)\u001b[0m \u001b[0;32min\u001b[0m \u001b[0mzip\u001b[0m\u001b[0;34m(\u001b[0m\u001b[0mconverters\u001b[0m\u001b[0;34m,\u001b[0m \u001b[0mvals\u001b[0m\u001b[0;34m)\u001b[0m\u001b[0;34m]\u001b[0m\u001b[0;34m\u001b[0m\u001b[0m\n\u001b[0m\u001b[1;32m    931\u001b[0m             \u001b[0;31m# Then pack it according to the dtype's nesting\u001b[0m\u001b[0;34m\u001b[0m\u001b[0;34m\u001b[0m\u001b[0m\n\u001b[1;32m    932\u001b[0m             \u001b[0mitems\u001b[0m \u001b[0;34m=\u001b[0m \u001b[0mpack_items\u001b[0m\u001b[0;34m(\u001b[0m\u001b[0mitems\u001b[0m\u001b[0;34m,\u001b[0m \u001b[0mpacking\u001b[0m\u001b[0;34m)\u001b[0m\u001b[0;34m\u001b[0m\u001b[0m\n",
      "\u001b[0;32m/Users/Karen/anaconda2/lib/python2.7/site-packages/numpy/lib/npyio.pyc\u001b[0m in \u001b[0;36mfloatconv\u001b[0;34m(x)\u001b[0m\n\u001b[1;32m    657\u001b[0m         \u001b[0;32mif\u001b[0m \u001b[0;34mb'0x'\u001b[0m \u001b[0;32min\u001b[0m \u001b[0mx\u001b[0m\u001b[0;34m:\u001b[0m\u001b[0;34m\u001b[0m\u001b[0m\n\u001b[1;32m    658\u001b[0m             \u001b[0;32mreturn\u001b[0m \u001b[0mfloat\u001b[0m\u001b[0;34m.\u001b[0m\u001b[0mfromhex\u001b[0m\u001b[0;34m(\u001b[0m\u001b[0masstr\u001b[0m\u001b[0;34m(\u001b[0m\u001b[0mx\u001b[0m\u001b[0;34m)\u001b[0m\u001b[0;34m)\u001b[0m\u001b[0;34m\u001b[0m\u001b[0m\n\u001b[0;32m--> 659\u001b[0;31m         \u001b[0;32mreturn\u001b[0m \u001b[0mfloat\u001b[0m\u001b[0;34m(\u001b[0m\u001b[0mx\u001b[0m\u001b[0;34m)\u001b[0m\u001b[0;34m\u001b[0m\u001b[0m\n\u001b[0m\u001b[1;32m    660\u001b[0m \u001b[0;34m\u001b[0m\u001b[0m\n\u001b[1;32m    661\u001b[0m     \u001b[0mtyp\u001b[0m \u001b[0;34m=\u001b[0m \u001b[0mdtype\u001b[0m\u001b[0;34m.\u001b[0m\u001b[0mtype\u001b[0m\u001b[0;34m\u001b[0m\u001b[0m\n",
      "\u001b[0;31mValueError\u001b[0m: could not convert string to float: %%%"
     ]
    }
   ],
   "source": [
    "\n",
    "spec_nparray    =   np.loadtxt('test_data/spectrum2.dat',skiprows=6)\n",
    "print(type(spec_nparray2))"
   ]
  },
  {
   "cell_type": "code",
   "execution_count": null,
   "metadata": {
    "collapsed": true
   },
   "outputs": [],
   "source": [
    "# Typically, a smarter way is to load the data directly into a pandas dataframe\n",
    "# http://pandas.pydata.org/pandas-docs/stable/dsintro.html"
   ]
  },
  {
   "cell_type": "code",
   "execution_count": 25,
   "metadata": {
    "collapsed": false
   },
   "outputs": [
    {
     "name": "stdout",
     "output_type": "stream",
     "text": [
      "Read data into pandas dataframe!\n"
     ]
    },
    {
     "ename": "TypeError",
     "evalue": "parser_f() got multiple values for keyword argument 'sep'",
     "output_type": "error",
     "traceback": [
      "\u001b[0;31m---------------------------------------------------------------------------\u001b[0m",
      "\u001b[0;31mTypeError\u001b[0m                                 Traceback (most recent call last)",
      "\u001b[0;32m<ipython-input-25-50676cd8b4ad>\u001b[0m in \u001b[0;36m<module>\u001b[0;34m()\u001b[0m\n\u001b[1;32m      2\u001b[0m \u001b[0;32mimport\u001b[0m \u001b[0mpandas\u001b[0m \u001b[0;32mas\u001b[0m \u001b[0mpd\u001b[0m\u001b[0;34m\u001b[0m\u001b[0m\n\u001b[1;32m      3\u001b[0m \u001b[0mnames\u001b[0m\u001b[0;34m=\u001b[0m\u001b[0;34m[\u001b[0m\u001b[0;34m'time'\u001b[0m\u001b[0;34m,\u001b[0m\u001b[0;34m'wavelength'\u001b[0m\u001b[0;34m,\u001b[0m\u001b[0;34m'L_tot'\u001b[0m\u001b[0;34m,\u001b[0m\u001b[0;34m'L_stellar'\u001b[0m\u001b[0;34m,\u001b[0m\u001b[0;34m'L_nebular'\u001b[0m\u001b[0;34m]\u001b[0m\u001b[0;34m\u001b[0m\u001b[0m\n\u001b[0;32m----> 4\u001b[0;31m \u001b[0mspec_dataframe\u001b[0m    \u001b[0;34m=\u001b[0m   \u001b[0mpd\u001b[0m\u001b[0;34m.\u001b[0m\u001b[0mread_table\u001b[0m\u001b[0;34m(\u001b[0m\u001b[0;34m'test_data/spectrum2.dat'\u001b[0m\u001b[0;34m,\u001b[0m                \u001b[0mnames\u001b[0m\u001b[0;34m,\u001b[0m                \u001b[0mskiprows\u001b[0m\u001b[0;34m=\u001b[0m\u001b[0;36m6\u001b[0m\u001b[0;34m,\u001b[0m\u001b[0msep\u001b[0m\u001b[0;34m=\u001b[0m\u001b[0;34mr\"\\s*\"\u001b[0m\u001b[0;34m,\u001b[0m\u001b[0mengine\u001b[0m\u001b[0;34m=\u001b[0m\u001b[0;34m'python'\u001b[0m\u001b[0;34m)\u001b[0m\u001b[0;34m\u001b[0m\u001b[0m\n\u001b[0m\u001b[1;32m      5\u001b[0m \u001b[0;32mprint\u001b[0m\u001b[0;34m(\u001b[0m\u001b[0mtype\u001b[0m\u001b[0;34m(\u001b[0m\u001b[0mspec_dataframe\u001b[0m\u001b[0;34m)\u001b[0m\u001b[0;34m)\u001b[0m\u001b[0;34m\u001b[0m\u001b[0m\n",
      "\u001b[0;31mTypeError\u001b[0m: parser_f() got multiple values for keyword argument 'sep'"
     ]
    }
   ],
   "source": [
    "print('Read data into pandas dataframe!')\n",
    "import pandas as pd\n",
    "names=['time','wavelength','L_tot','L_stellar','L_nebular']\n",
    "spec_dataframe    =   pd.read_table('test_data/spectrum2.dat',\\\n",
    "                names=names,\\\n",
    "                skiprows=6,sep=r\"\\s*\",engine='python')    \n",
    "print(type(spec_dataframe))"
   ]
  },
  {
   "cell_type": "code",
   "execution_count": 18,
   "metadata": {
    "collapsed": false
   },
   "outputs": [
    {
     "data": {
      "text/plain": [
       "10010000.0"
      ]
     },
     "execution_count": 18,
     "metadata": {},
     "output_type": "execute_result"
    }
   ],
   "source": [
    "spec_dataframe['time'][1]"
   ]
  },
  {
   "cell_type": "code",
   "execution_count": 22,
   "metadata": {
    "collapsed": false
   },
   "outputs": [
    {
     "data": {
      "image/png": "[encoded data removed]",
      "text/plain": [
       "<matplotlib.figure.Figure at 0x115136e10>"
      ]
     },
     "metadata": {},
     "output_type": "display_data"
    }
   ],
   "source": [
    "# Plot spectrum\n",
    "import matplotlib.pyplot as plt\n",
    "import matplotlib as mpl\n",
    "mpl.rcParams['xtick.labelsize'] = 15\n",
    "mpl.rcParams['ytick.labelsize'] = 15\n",
    "fig          =   plt.figure(0,figsize=(10,5))\n",
    "ax1          =   fig.add_axes([0.15,0.1,0.75,0.8])\n",
    "ax1.set_ylim(31,39)\n",
    "ax1.set_xlim(1e2,1e6)\n",
    "ax1.set_xscale('log')\n",
    "ax1.set_xlabel('Wavelength [AA]',fontsize=15)\n",
    "ax1.set_ylabel('log flux [erg/s/AA]',fontsize=15)\n",
    "ax1.set_title('1e4 M$_{\\odot}$ of stars with Z=0.008 after 1e6 yr',fontsize=15)#+str(t1)+' yr')\n",
    "#ax1.plot(spec_nparray[:,1],spec_nparray[:,2],'b')\n",
    "#ax1.plot(spec_nparray2['wavelength'],spec_nparray2['L_tot'],'b')\n",
    "ax1.plot(spec_dataframe['wavelength'],spec_dataframe['L_tot'],'b')\n",
    "plt.show()"
   ]
  },
  {
   "cell_type": "code",
   "execution_count": null,
   "metadata": {
    "collapsed": false
   },
   "outputs": [],
   "source": [
    "print('\\n ---- Fits files! ----\\n')"
   ]
  },
  {
   "cell_type": "code",
   "execution_count": null,
   "metadata": {
    "collapsed": true
   },
   "outputs": [],
   "source": [
    "# In test_data/ there is a file called cloud.fits with data that we want to import into python. \n",
    "# (cloud.fits is a simulated HCO+ data cube of a cloud, calculated with RT code LIME)"
   ]
  },
  {
   "cell_type": "code",
   "execution_count": null,
   "metadata": {
    "collapsed": false
   },
   "outputs": [],
   "source": [
    "# Read fits file into list-like Python opject with the fits function from the astropy module\n",
    "from astropy.io import fits\n",
    "fits_file = fits.open('test_data/cloud.fits')\n",
    "print(type(fits_file))\n",
    "fits_file.info() # get basic info, like number of header cards and dimensions of data"
   ]
  },
  {
   "cell_type": "code",
   "execution_count": null,
   "metadata": {
    "collapsed": false
   },
   "outputs": [],
   "source": [
    "print(fits_file[0].header) # display all header cards"
   ]
  },
  {
   "cell_type": "code",
   "execution_count": null,
   "metadata": {
    "collapsed": false
   },
   "outputs": [],
   "source": [
    "# We can extract general info from the header cards like this:\n",
    "imgres = fits_file[0].header['CDELT2']\n",
    "print('Image resolution: ' + str(imgres) + ' degrees')\n",
    "npix = fits_file[0].header['NAXIS1']\n",
    "print('Number of pixels on each side: ' + str(npix))\n",
    "velres = fits_file[0].header['CDELT3']\n",
    "print('Velocity resolution: ' + str(velres) + 'm/s')"
   ]
  },
  {
   "cell_type": "code",
   "execution_count": null,
   "metadata": {
    "collapsed": false
   },
   "outputs": [],
   "source": [
    "# And the actual data is an attribute of data[0]\n",
    "HCO_flux = fits_file[0].data # [velocity channels, x axis, y axis]\n",
    "print(HCO_flux[:,50,50])\n",
    "mom0 = HCO_flux.sum(axis=0)*velres/1000 # moment 0 map, Jy*km/s"
   ]
  },
  {
   "cell_type": "code",
   "execution_count": null,
   "metadata": {
    "collapsed": false
   },
   "outputs": [],
   "source": [
    "# Contour plot of data cube\n",
    "import matplotlib.cm as cm\n",
    "fig         =   plt.figure(1,figsize=(9,9))\n",
    "ax1         =   fig.add_axes([0.15,0.1,0.75,0.8])\n",
    "ax1.set_xlabel(\"x ['']\",fontsize=15)\n",
    "ax1.set_ylabel(\"y ['']\",fontsize=15)\n",
    "ax1.set_title(\"Moment 0 map of HCO$^+$ gas cloud\",fontsize=15)\n",
    "x1 = imgres*(np.arange(npix)-npix/2) # image axis\n",
    "xmax = max(x1)\n",
    "im = ax1.imshow(mom0,interpolation='bilinear',origin='lower',cmap=cm.hot,extent=(-xmax,xmax,-xmax,xmax),vmax=120)\n",
    "cax = fig.add_axes([0.9,0.1,0.05,0.8])\n",
    "cbar = plt.colorbar(im,cax=cax)\n",
    "cbar.set_label('Jy km/s',size=20)\n",
    "plt.show(block=False)"
   ]
  },
  {
   "cell_type": "code",
   "execution_count": null,
   "metadata": {
    "collapsed": false
   },
   "outputs": [],
   "source": [
    "print('\\n ---- Saving python data for later! ----\\n')"
   ]
  },
  {
   "cell_type": "code",
   "execution_count": null,
   "metadata": {
    "collapsed": false
   },
   "outputs": [],
   "source": [
    "print('Save a numpy array!')\n",
    "# Say you have a numpy array that you want to save to a file and load later. \n",
    "# One way to do so is with numpy:\n",
    "np.save('test_data/spec_nparray',spec_nparray) # will get a 'npy' extension\n",
    "load_spec_nparray = np.load('test_data/spec_nparray.npy')\n",
    "load_spec_nparray[0,0] # test"
   ]
  },
  {
   "cell_type": "code",
   "execution_count": null,
   "metadata": {
    "collapsed": false
   },
   "outputs": [],
   "source": [
    "# You can also use pickle! Or cPickle, which is pickle written in C, with several advantages.\n",
    "import cPickle as pickle\n",
    "pickle.dump(spec_nparray,open('test_data/spec_nparray_pickle','wb')) # no extension\n",
    "# 'wb' is the protocol and means to write to binary format\n",
    "load_spec_nparray = pickle.load(open('test_data/spec_nparray_pickle','rb'))\n",
    "load_spec_nparray[0,0] # test"
   ]
  },
  {
   "cell_type": "code",
   "execution_count": null,
   "metadata": {
    "collapsed": false
   },
   "outputs": [],
   "source": [
    "# You can also use pandas to save a dataframe with pickle:\n",
    "spec_dataframe.to_pickle('test_data/spec_dataframe_pickle') # no extension\n",
    "load_spec_dataframe_pickle = pd.read_pickle('test_data/spec_dataframe_pickle')\n",
    "load_spec_dataframe_pickle['time'][0] # test"
   ]
  },
  {
   "cell_type": "code",
   "execution_count": null,
   "metadata": {
    "collapsed": true
   },
   "outputs": [],
   "source": []
  }
 ],
 "metadata": {
  "kernelspec": {
   "display_name": "Python 2",
   "language": "python",
   "name": "python2"
  },
  "language_info": {
   "codemirror_mode": {
    "name": "ipython",
    "version": 2
   },
   "file_extension": ".py",
   "mimetype": "text/x-python",
   "name": "python",
   "nbconvert_exporter": "python",
   "pygments_lexer": "ipython2",
   "version": "2.7.12"
  }
 },
 "nbformat": 4,
 "nbformat_minor": 0
}
