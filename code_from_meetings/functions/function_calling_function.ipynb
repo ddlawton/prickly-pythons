{
 "cells": [
  {
   "cell_type": "markdown",
   "metadata": {},
   "source": [
    "This notebook contains various examples showing how functions are implemented and can be used in Python.\n",
    "\n",
    "Date Created: Sep 25 2017 <br>\n",
    "Last Modified: Sep 25 2017 <br>\n",
    "Humans Responsible: The Prickly Pythons"
   ]
  },
  {
   "cell_type": "code",
   "execution_count": null,
   "metadata": {
    "collapsed": true
   },
   "outputs": [],
   "source": [
    "%matplotlib inline\n",
    "\n",
    "import numpy as np\n",
    "import matplotlib.pyplot as plt\n",
    "from numpy.polynomial.polynomial import polyval"
   ]
  },
  {
   "cell_type": "code",
   "execution_count": null,
   "metadata": {
    "collapsed": true
   },
   "outputs": [],
   "source": [
    "# Create a function that plots a polynomial\n",
    "def mk_one_polynomial(x,coef,color):\n",
    "    y = polyval(x,coef)\n",
    "    ax1 = plt.gca()\n",
    "    ax1.plot(x, y, color=color, linestyle='dashed', linewidth=2)\n",
    "    return y"
   ]
  },
  {
   "cell_type": "code",
   "execution_count": null,
   "metadata": {
    "collapsed": true
   },
   "outputs": [],
   "source": [
    "# Create a function that plots several polynomials \n",
    "# by calling mk_one_polynomial()\n",
    "def mk_many_polynomials(x,n,coef_start):\n",
    "    \"\"\"\n",
    "    x: array to evaluate polynomial\n",
    "    n: number of polynomials to plot\n",
    "    coef_start: polynomial coefficients to start out with\n",
    "    \"\"\"\n",
    "    fig = plt.figure(figsize=(9,5))\n",
    "    ax1 = fig.add_subplot(111)\n",
    "    color = plt.cm.rainbow(np.linspace(0,1,n)) # some cool colors to use\n",
    "    for i in range(n):\n",
    "        coef = coef_start+2.*i\n",
    "        mk_one_polynomial(x,coef,color[i])\n",
    "    plt.xlabel('x', fontsize=14)\n",
    "    plt.ylabel('y', fontsize=14)\n",
    "    plt.show()"
   ]
  },
  {
   "cell_type": "code",
   "execution_count": null,
   "metadata": {},
   "outputs": [],
   "source": [
    "# Now let's call the main function!\n",
    "x = np.linspace(0, 10, 20)\n",
    "coef_start = np.array([1,2,3]) # 1 + 2*x + 3*x^2\n",
    "mk_many_polynomials(x,10,coef_start)"
   ]
  },
  {
   "cell_type": "code",
   "execution_count": null,
   "metadata": {
    "collapsed": true
   },
   "outputs": [],
   "source": []
  }
 ],
 "metadata": {
  "kernelspec": {
   "display_name": "Python 3",
   "language": "python",
   "name": "python3"
  },
  "language_info": {
   "codemirror_mode": {
    "name": "ipython",
    "version": 3
   },
   "file_extension": ".py",
   "mimetype": "text/x-python",
   "name": "python",
   "nbconvert_exporter": "python",
   "pygments_lexer": "ipython3",
   "version": "3.5.4"
  }
 },
 "nbformat": 4,
 "nbformat_minor": 2
}
