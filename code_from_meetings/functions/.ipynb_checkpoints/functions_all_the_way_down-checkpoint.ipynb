{
 "cells": [
  {
   "cell_type": "markdown",
   "metadata": {},
   "source": [
    "This notebook demonstrates a Python scoping rule that is very useful to know:\n",
    "<br>\n",
    "A variable's value gets propagated all the way down into all nested functions unless it is changed along the way, in which case the changed value gets propagated all the way down.\n",
    "\n",
    "Declaring a variable to be global points the variable's value back to the global memory, which initially is the value of the variable at the top-most level.\n",
    "\n",
    "Date Created: 25 Sep 2017\n",
    "<br>\n",
    "Last Modified: 26 Sep 2017\n",
    "<br>\n",
    "Humans Responsible: The Prickly Pythons"
   ]
  },
  {
   "cell_type": "markdown",
   "metadata": {},
   "source": [
    "### All the way down"
   ]
  },
  {
   "cell_type": "code",
   "execution_count": 1,
   "metadata": {},
   "outputs": [
    {
     "name": "stdout",
     "output_type": "stream",
     "text": [
      "Layer 0 in: x = 50\n",
      "Layer 1 in: x = 50\n",
      "Layer 2 in: x = 50\n",
      "Layer 3 in: x = 50\n",
      "Layer 4: x = 50\n",
      "Layer 3 out: x = 50\n",
      "Layer 2 out: x = 50\n",
      "Layer 1 out: x = 50\n",
      "Layer 0 out: x = 50\n"
     ]
    }
   ],
   "source": [
    "def func1():\n",
    "    def func2():\n",
    "        def func3():\n",
    "            def func4():\n",
    "                print('Layer 4: x = %d' % x)\n",
    "            \n",
    "            print('Layer 3 in: x = %d' % x)\n",
    "            func4()\n",
    "            print('Layer 3 out: x = %d' % x)\n",
    "            \n",
    "        print('Layer 2 in: x = %d' % x)\n",
    "        func3()\n",
    "        print('Layer 2 out: x = %d' % x)\n",
    "    \n",
    "    print('Layer 1 in: x = %d' % x)\n",
    "    func2()\n",
    "    print('Layer 1 out: x = %d' % x)\n",
    "\n",
    "x = 50\n",
    "print('Layer 0 in: x = %d' % x)\n",
    "func1()\n",
    "print('Layer 0 out: x = %d' % x)"
   ]
  },
  {
   "cell_type": "markdown",
   "metadata": {},
   "source": [
    "### Changing midway"
   ]
  },
  {
   "cell_type": "code",
   "execution_count": 2,
   "metadata": {},
   "outputs": [
    {
     "name": "stdout",
     "output_type": "stream",
     "text": [
      "Layer 0 in: x = 50\n",
      "Layer 1 in: x = 50\n",
      "Layer 2 in: x = 2\n",
      "Layer 3 in: x = 2\n",
      "Layer 4: x = 2\n",
      "Layer 3 out: x = 2\n",
      "Layer 2 out: x = 2\n",
      "Layer 1 out: x = 50\n",
      "Layer 0 out: x = 50\n"
     ]
    }
   ],
   "source": [
    "def func1():\n",
    "    def func2():\n",
    "        x = 2 # x is changed here\n",
    "        def func3():\n",
    "            def func4():\n",
    "                print('Layer 4: x = %d' % x)\n",
    "            \n",
    "            print('Layer 3 in: x = %d' % x)\n",
    "            func4()\n",
    "            print('Layer 3 out: x = %d' % x)\n",
    "            \n",
    "        print('Layer 2 in: x = %d' % x)\n",
    "        func3()\n",
    "        print('Layer 2 out: x = %d' % x)\n",
    "    \n",
    "    print('Layer 1 in: x = %d' % x)\n",
    "    func2()\n",
    "    print('Layer 1 out: x = %d' % x)\n",
    "\n",
    "x = 50\n",
    "print('Layer 0 in: x = %d' % x)\n",
    "func1()\n",
    "print('Layer 0 out: x = %d' % x)"
   ]
  },
  {
   "cell_type": "markdown",
   "metadata": {},
   "source": [
    "### Changing all the time"
   ]
  },
  {
   "cell_type": "code",
   "execution_count": 3,
   "metadata": {},
   "outputs": [
    {
     "name": "stdout",
     "output_type": "stream",
     "text": [
      "Layer 0 in: x = 50\n",
      "Layer 1 in: x = 1\n",
      "Layer 2 in: x = 2\n",
      "Layer 3 in: x = 3\n",
      "Layer 4: x = 3\n",
      "Layer 3 out: x = 3\n",
      "Layer 2 out: x = 2\n",
      "Layer 1 out: x = 1\n",
      "Layer 0 out: x = 50\n"
     ]
    }
   ],
   "source": [
    "def func1():\n",
    "    x = 1\n",
    "    def func2():\n",
    "        x = 2\n",
    "        def func3():\n",
    "            x = 3\n",
    "            def func4():\n",
    "                print('Layer 4: x = %d' % x)\n",
    "            \n",
    "            print('Layer 3 in: x = %d' % x)\n",
    "            func4()\n",
    "            print('Layer 3 out: x = %d' % x)\n",
    "            \n",
    "        print('Layer 2 in: x = %d' % x)\n",
    "        func3()\n",
    "        print('Layer 2 out: x = %d' % x)\n",
    "    \n",
    "    print('Layer 1 in: x = %d' % x)\n",
    "    func2()\n",
    "    print('Layer 1 out: x = %d' % x)\n",
    "\n",
    "x = 50\n",
    "print('Layer 0 in: x = %d' % x)\n",
    "func1()\n",
    "print('Layer 0 out: x = %d' % x)"
   ]
  },
  {
   "cell_type": "markdown",
   "metadata": {},
   "source": [
    "### Global midway"
   ]
  },
  {
   "cell_type": "code",
   "execution_count": 4,
   "metadata": {},
   "outputs": [
    {
     "name": "stdout",
     "output_type": "stream",
     "text": [
      "Layer 0 in: x = 50\n",
      "Layer 1 in: x = 1\n",
      "Layer 2 in: x = 50\n",
      "Layer 3 in: x = 3\n",
      "Layer 4: x = 3\n",
      "Layer 3 out: x = 3\n",
      "Layer 2 out: x = 50\n",
      "Layer 1 out: x = 1\n",
      "Layer 0 out: x = 50\n"
     ]
    }
   ],
   "source": [
    "def func1():\n",
    "    x = 1\n",
    "    def func2():\n",
    "        global x # x is declared global here\n",
    "        def func3():\n",
    "            x = 3\n",
    "            def func4():\n",
    "                print('Layer 4: x = %d' % x)\n",
    "            \n",
    "            print('Layer 3 in: x = %d' % x)\n",
    "            func4()\n",
    "            print('Layer 3 out: x = %d' % x)\n",
    "            \n",
    "        print('Layer 2 in: x = %d' % x)\n",
    "        func3()\n",
    "        print('Layer 2 out: x = %d' % x)\n",
    "    \n",
    "    print('Layer 1 in: x = %d' % x)\n",
    "    func2()\n",
    "    print('Layer 1 out: x = %d' % x)\n",
    "\n",
    "x = 50\n",
    "print('Layer 0 in: x = %d' % x)\n",
    "func1()\n",
    "print('Layer 0 out: x = %d' % x)"
   ]
  },
  {
   "cell_type": "markdown",
   "metadata": {},
   "source": [
    "### Alternating between globals"
   ]
  },
  {
   "cell_type": "code",
   "execution_count": 5,
   "metadata": {},
   "outputs": [
    {
     "name": "stdout",
     "output_type": "stream",
     "text": [
      "Layer 0 in: x = 50\n",
      "Layer 1 in: x = 1\n",
      "Layer 2 in: x = 50\n",
      "Layer 3 in: x = 3\n",
      "Layer 4: x = 50\n",
      "Layer 3 out: x = 3\n",
      "Layer 2 out: x = 50\n",
      "Layer 1 out: x = 1\n",
      "Layer 0 out: x = 50\n"
     ]
    }
   ],
   "source": [
    "def func1():\n",
    "    x = 1\n",
    "    def func2():\n",
    "        global x\n",
    "        def func3():\n",
    "            x = 3\n",
    "            def func4():\n",
    "                global x\n",
    "                print('Layer 4: x = %d' % x)\n",
    "            \n",
    "            print('Layer 3 in: x = %d' % x)\n",
    "            func4()\n",
    "            print('Layer 3 out: x = %d' % x)\n",
    "            \n",
    "        print('Layer 2 in: x = %d' % x)\n",
    "        func3()\n",
    "        print('Layer 2 out: x = %d' % x)\n",
    "    \n",
    "    print('Layer 1 in: x = %d' % x)\n",
    "    func2()\n",
    "    print('Layer 1 out: x = %d' % x)\n",
    "\n",
    "x = 50\n",
    "print('Layer 0 in: x = %d' % x)\n",
    "func1()\n",
    "print('Layer 0 out: x = %d' % x)"
   ]
  },
  {
   "cell_type": "markdown",
   "metadata": {},
   "source": [
    "### Changing the global"
   ]
  },
  {
   "cell_type": "code",
   "execution_count": 8,
   "metadata": {},
   "outputs": [
    {
     "name": "stdout",
     "output_type": "stream",
     "text": [
      "Layer 0 in: x = 50\n",
      "Layer 1 in: x = 1\n",
      "Layer 2 in: x = 40\n",
      "Layer 3 in: x = 3\n",
      "Layer 4: x = 40\n",
      "Layer 3 out: x = 3\n",
      "Layer 2 out: x = 40\n",
      "Layer 1 out: x = 1\n",
      "Layer 0 out: x = 40\n"
     ]
    }
   ],
   "source": [
    "def func1():\n",
    "    x = 1\n",
    "    def func2():\n",
    "        global x\n",
    "        x = 40 # global x is changed here\n",
    "        def func3():\n",
    "            x = 3\n",
    "            def func4():\n",
    "                global x\n",
    "                print('Layer 4: x = %d' % x)\n",
    "            \n",
    "            print('Layer 3 in: x = %d' % x)\n",
    "            func4()\n",
    "            print('Layer 3 out: x = %d' % x)\n",
    "            \n",
    "        print('Layer 2 in: x = %d' % x)\n",
    "        func3()\n",
    "        print('Layer 2 out: x = %d' % x)\n",
    "    \n",
    "    print('Layer 1 in: x = %d' % x)\n",
    "    func2()\n",
    "    print('Layer 1 out: x = %d' % x)\n",
    "\n",
    "x = 50\n",
    "print('Layer 0 in: x = %d' % x)\n",
    "func1()\n",
    "print('Layer 0 out: x = %d' % x)"
   ]
  },
  {
   "cell_type": "code",
   "execution_count": null,
   "metadata": {
    "collapsed": true
   },
   "outputs": [],
   "source": []
  },
  {
   "cell_type": "code",
   "execution_count": null,
   "metadata": {
    "collapsed": true
   },
   "outputs": [],
   "source": []
  }
 ],
 "metadata": {
  "kernelspec": {
   "display_name": "Python 3",
   "language": "python",
   "name": "python3"
  },
  "language_info": {
   "codemirror_mode": {
    "name": "ipython",
    "version": 3
   },
   "file_extension": ".py",
   "mimetype": "text/x-python",
   "name": "python",
   "nbconvert_exporter": "python",
   "pygments_lexer": "ipython3",
   "version": "3.5.4"
  }
 },
 "nbformat": 4,
 "nbformat_minor": 1
}
