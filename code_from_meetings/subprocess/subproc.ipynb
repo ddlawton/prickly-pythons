{
 "cells": [
  {
   "cell_type": "code",
   "execution_count": 44,
   "metadata": {
    "collapsed": false,
    "deletable": true,
    "editable": true
   },
   "outputs": [],
   "source": [
    "#Using subprocess and sextractor to make measurements in fits images.\n",
    "from subprocess import call, check_output, check_call\n",
    "import astropy.io.fits as pf\n",
    "import numpy as np"
   ]
  },
  {
   "cell_type": "code",
   "execution_count": 45,
   "metadata": {
    "collapsed": true,
    "deletable": true,
    "editable": true
   },
   "outputs": [],
   "source": [
    "def gauss(size):                                            #Define a gaussian for creating an artificial source of sigma=size.\n",
    "    size = int(size)\n",
    "    x, y = np.mgrid[-25:25, -25:25]                         #Create a 50x50 grid array\n",
    "    g = np.exp(-(x**2/float(size)+y**2/float(size)))        #Generate a Gaussian array\n",
    "    return g / g.sum()                                      #Normalize"
   ]
  },
  {
   "cell_type": "code",
   "execution_count": 46,
   "metadata": {
    "collapsed": true,
    "deletable": true,
    "editable": true
   },
   "outputs": [],
   "source": [
    "noise = np.random.poisson(100,size=(50,50))                 #Background noise  \n",
    "signal = 3000*gauss(10)                                     #Artificial Source\n",
    "img = signal+noise                                          #Pretend image"
   ]
  },
  {
   "cell_type": "code",
   "execution_count": 47,
   "metadata": {
    "collapsed": false,
    "deletable": true,
    "editable": true
   },
   "outputs": [],
   "source": [
    "test = 'test_img.fits'                                      #Image name\n",
    "segmap = 'test_segmap.fits'                                 #Segmentation map name\n",
    "cat = 'test.cat'                                            #Sextractor catalog name\n",
    "pf.writeto(test,img,overwrite=True)                           #Write image to a fits file"
   ]
  },
  {
   "cell_type": "code",
   "execution_count": 48,
   "metadata": {
    "collapsed": false,
    "deletable": true,
    "editable": true
   },
   "outputs": [
    {
     "name": "stdout",
     "output_type": "stream",
     "text": [
      "# Default configuration file for SExtractor 2.19.5\n",
      "# EB 2013-12-14\n",
      "#\n",
      " \n",
      "#-------------------------------- Catalog ------------------------------------\n",
      " \n",
      "CATALOG_NAME     test.cat       # name of the output catalog\n",
      "CATALOG_TYPE     ASCII_HEAD     # NONE,ASCII,ASCII_HEAD, ASCII_SKYCAT,\n",
      "                                # ASCII_VOTABLE, FITS_1.0 or FITS_LDAC\n",
      "PARAMETERS_NAME  default.param  # name of the file containing catalog contents\n",
      " \n",
      "#------------------------------- Extraction ----------------------------------\n",
      " \n",
      "DETECT_TYPE      CCD            # CCD (linear) or PHOTO (with gamma correction)\n",
      "DETECT_MINAREA   5              # min. # of pixels above threshold\n",
      "DETECT_THRESH    1.5            # <sigmas> or <threshold>,<ZP> in mag.arcsec-2\n",
      "ANALYSIS_THRESH  1.5            # <sigmas> or <threshold>,<ZP> in mag.arcsec-2\n",
      " \n",
      "FILTER           Y              # apply filter for detection (Y or N)?\n",
      "FILTER_NAME      default.conv   # name of the file containing the filter\n",
      " \n",
      "DEBLEND_NTHRESH  32             # Number of deblending sub-thresholds\n",
      "DEBLEND_MINCONT  0.005          # Minimum contrast parameter for deblending\n",
      " \n",
      "CLEAN            Y              # Clean spurious detections? (Y or N)?\n",
      "CLEAN_PARAM      1.0            # Cleaning efficiency\n",
      " \n",
      "MASK_TYPE        CORRECT        # type of detection MASKing: can be one of\n",
      "                                # NONE, BLANK or CORRECT\n",
      " \n",
      "#------------------------------ Photometry -----------------------------------\n",
      " \n",
      "PHOT_APERTURES   5              # MAG_APER aperture diameter(s) in pixels\n",
      "PHOT_AUTOPARAMS  2.5, 3.5       # MAG_AUTO parameters: <Kron_fact>,<min_radius>\n",
      "PHOT_PETROPARAMS 2.0, 3.5       # MAG_PETRO parameters: <Petrosian_fact>,\n",
      "                                # <min_radius>\n",
      " \n",
      "SATUR_LEVEL      50000.0        # level (in ADUs) at which arises saturation\n",
      "SATUR_KEY        SATURATE       # keyword for saturation level (in ADUs)\n",
      " \n",
      "MAG_ZEROPOINT    0.0            # magnitude zero-point\n",
      "MAG_GAMMA        4.0            # gamma of emulsion (for photographic scans)\n",
      "GAIN             0.0            # detector gain in e-/ADU\n",
      "GAIN_KEY         GAIN           # keyword for detector gain in e-/ADU\n",
      "PIXEL_SCALE      1.0            # size of pixel in arcsec (0=use FITS WCS info)\n",
      " \n",
      "#------------------------- Star/Galaxy Separation ----------------------------\n",
      " \n",
      "SEEING_FWHM      1.2            # stellar FWHM in arcsec\n",
      "STARNNW_NAME     default.nnw    # Neural-Network_Weight table filename\n",
      " \n",
      "#------------------------------ Background -----------------------------------\n",
      " \n",
      "BACK_SIZE        64             # Background mesh: <size> or <width>,<height>\n",
      "BACK_FILTERSIZE  3              # Background filter: <size> or <width>,<height>\n",
      " \n",
      "BACKPHOTO_TYPE   GLOBAL         # can be GLOBAL or LOCAL\n",
      " \n",
      "#------------------------------ Check Image ----------------------------------\n",
      " \n",
      "CHECKIMAGE_TYPE  NONE           # can be NONE, BACKGROUND, BACKGROUND_RMS,\n",
      "                                # MINIBACKGROUND, MINIBACK_RMS, -BACKGROUND,\n",
      "                                # FILTERED, OBJECTS, -OBJECTS, SEGMENTATION,\n",
      "                                # or APERTURES\n",
      "CHECKIMAGE_NAME  check.fits     # Filename for the check-image\n",
      " \n",
      "#--------------------- Memory (change with caution!) -------------------------\n",
      " \n",
      "MEMORY_OBJSTACK  3000           # number of objects in stack\n",
      "MEMORY_PIXSTACK  300000         # number of pixels in stack\n",
      "MEMORY_BUFSIZE   1024           # number of lines in buffer\n",
      " \n",
      "#----------------------------- Miscellaneous ---------------------------------\n",
      " \n",
      "VERBOSE_TYPE     NORMAL         # can be QUIET, NORMAL or FULL\n",
      "HEADER_SUFFIX    .head          # Filename extension for additional headers\n",
      "WRITE_XML        N              # Write XML file (Y/N)?\n",
      "XML_NAME         sex.xml        # Filename for XML output\n",
      "\n"
     ]
    }
   ],
   "source": [
    "config = check_output('sextractor -d',shell=True)           #Save shell output from sextractor default config file into string\n",
    "print config                                                #print string"
   ]
  },
  {
   "cell_type": "code",
   "execution_count": 49,
   "metadata": {
    "collapsed": false,
    "deletable": true,
    "editable": true
   },
   "outputs": [],
   "source": [
    "with open(\"default.sex\", \"w\") as txt:                       #Save sextractor config file to default name\n",
    "    txt.write(config)"
   ]
  },
  {
   "cell_type": "code",
   "execution_count": 50,
   "metadata": {
    "collapsed": false,
    "deletable": true,
    "editable": true
   },
   "outputs": [
    {
     "data": {
      "text/plain": [
       "0"
      ]
     },
     "execution_count": 50,
     "metadata": {},
     "output_type": "execute_result"
    }
   ],
   "source": [
    "#Run sextractor on test saving catalog of measurements listed in default.param to cat and adjusting parameters in config file on the command line\n",
    "call([\"sextractor\", test, \"-CATALOG_NAME\", cat, \"-PARAMETERS_NAME\", \"default.param\", \"-DETECT_MINAREA\", \"5\", \"-DETECT_THRESH\", \"1.5\", \"-ANALYSIS_THRESH\", \"0.8\", \"-DEBLEND_NTHRESH\", \"64\",\"-DEBLEND_MINCONT\",\"0.0005\", \"-MAG_ZEROPOINT\", \"0\", \"-BACK_SIZE\", \"32\", \"-BACK_FILTERSIZE\", \"3\", \"-PIXEL_SCALE\", \"0.09\", \"-BACK_VALUE\", \"0\", \"-CHECKIMAGE_TYPE\", \"SEGMENTATION\", \"-CHECKIMAGE_NAME\", segmap, \"-VERBOSE_TYPE\", \"QUIET\"])"
   ]
  },
  {
   "cell_type": "code",
   "execution_count": 51,
   "metadata": {
    "collapsed": false,
    "deletable": true,
    "editable": true
   },
   "outputs": [
    {
     "name": "stdout",
     "output_type": "stream",
     "text": [
      "25.3197685478\n"
     ]
    }
   ],
   "source": [
    "param = np.genfromtxt('default.param',dtype='a20')          #Open sextractor parameter file as array of strings\n",
    "cat = np.genfromtxt(cat,dtype=float,names=','.join(param))  #Open sextractor catalog in array with names from parameter file (One could save the catalog as a fits_1.0 file by adding \"-CATALOG_TYPE\", \"FITS_1.0\" to the argument list in the call argument list)\n",
    "print cat['FLUX_AUTO']/cat['FLUXERR_AUTO']                  #Print the signal to noise ratio of your detection"
   ]
  },
  {
   "cell_type": "code",
   "execution_count": 52,
   "metadata": {
    "collapsed": false,
    "deletable": true,
    "editable": true
   },
   "outputs": [
    {
     "data": {
      "text/plain": [
       "0"
      ]
     },
     "execution_count": 52,
     "metadata": {},
     "output_type": "execute_result"
    }
   ],
   "source": [
    "call(['ds9',test,segmap])                                   #Open your image and segmentation map in ds9"
   ]
  }
 ],
 "metadata": {
  "kernelspec": {
   "display_name": "Python 2",
   "language": "python",
   "name": "python2"
  },
  "language_info": {
   "codemirror_mode": {
    "name": "ipython",
    "version": 2
   },
   "file_extension": ".py",
   "mimetype": "text/x-python",
   "name": "python",
   "nbconvert_exporter": "python",
   "pygments_lexer": "ipython2",
   "version": "2.7.12"
  }
 },
 "nbformat": 4,
 "nbformat_minor": 2
}
